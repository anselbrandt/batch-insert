{
 "cells": [
  {
   "cell_type": "code",
   "execution_count": null,
   "metadata": {},
   "outputs": [],
   "source": [
    "import sqlite3\n",
    "\n",
    "searchterm = \"bed\"\n",
    "conn = sqlite3.connect(\"transcripts.db\")\n",
    "c = conn.cursor()\n",
    "\n",
    "c.execute(\"\"\"SELECT * FROM lines WHERE speech LIKE '%' || ? || '%'\"\"\", (searchterm,))\n",
    "\n",
    "results = c.fetchall()\n",
    "\n",
    "conn.commit()\n",
    "conn.close()\n",
    "\n",
    "\n",
    "len(results)"
   ]
  },
  {
   "cell_type": "code",
   "execution_count": null,
   "metadata": {},
   "outputs": [],
   "source": [
    "lines = [\n",
    "    line\n",
    "    for id, filename, show, episode, title, date, idx, start, end, duration, speaker, speakerName, line, in results\n",
    "]\n",
    "\n",
    "lines"
   ]
  }
 ],
 "metadata": {
  "kernelspec": {
   "display_name": "ipython",
   "language": "python",
   "name": "python3"
  },
  "language_info": {
   "name": "python",
   "version": "3.12.7"
  }
 },
 "nbformat": 4,
 "nbformat_minor": 2
}
